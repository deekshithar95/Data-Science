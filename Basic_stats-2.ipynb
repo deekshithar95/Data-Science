{
 "cells": [
  {
   "cell_type": "markdown",
   "id": "de0f786b-135f-421d-8353-23239d0b213b",
   "metadata": {},
   "source": [
    "## Estimation and Confidence Intervals"
   ]
  },
  {
   "cell_type": "markdown",
   "id": "da1cd849-1aae-45bb-ad9a-4a6d7d632b7b",
   "metadata": {},
   "source": [
    "### Given the scenario, the objective is to estimate the mean durability of print-heads based on a small sample size using confidence intervals. We’ll explore two cases: when using the sample standard deviation and when the population standard deviation is known."
   ]
  },
  {
   "cell_type": "markdown",
   "id": "0ebef593-2418-447e-89c4-519a2da0a8a0",
   "metadata": {},
   "source": [
    "### Data:\n",
    "### Durability of print-heads (in millions of characters):\n",
    "### 1.13,1.55,1.43,0.92,1.25,1.36,1.32,0.85,1.07,1.48,1.20,1.33,1.18,1.22,1.29"
   ]
  },
  {
   "cell_type": "code",
   "execution_count": 6,
   "id": "4e533138-baa1-42a5-9d26-9a0ac0a480bb",
   "metadata": {},
   "outputs": [],
   "source": [
    "## Building a 99% Confidence Interval Using the Sample Standard Deviation"
   ]
  },
  {
   "cell_type": "markdown",
   "id": "2eaf5376-9357-4874-8f65-6d0971db9fe4",
   "metadata": {},
   "source": [
    "#### Why Use the T-Distribution?\n",
    "#### Small sample size: With only 15 data points, the sample size is less than 30, which is typically the threshold to use the t-distribution.\n",
    "#### Unknown population standard deviation: Since the population standard deviation is not given in this case, we rely on the sample standard deviation.\n",
    "#### T-distribution: Accounts for the additional variability in smaller samples by having thicker tails compared to the normal distribution."
   ]
  },
  {
   "cell_type": "code",
   "execution_count": 9,
   "id": "93d0d642-ae2b-4f26-b07c-f5ca3137d979",
   "metadata": {},
   "outputs": [],
   "source": [
    "data=[1.13,1.55,1.43,0.92,1.25,1.36,1.32,0.85,1.07,1.48,1.20,1.33,1.18,1.22,1.29]"
   ]
  },
  {
   "cell_type": "code",
   "execution_count": 11,
   "id": "82f01b9e-f385-420a-b638-059afb7d25b2",
   "metadata": {},
   "outputs": [],
   "source": [
    "import numpy as np\n",
    "import scipy.stats as stats"
   ]
  },
  {
   "cell_type": "code",
   "execution_count": 13,
   "id": "341162de-72b6-4da4-82f2-3d9acc1cbf71",
   "metadata": {},
   "outputs": [
    {
     "data": {
      "text/plain": [
       "1.2386666666666666"
      ]
     },
     "execution_count": 13,
     "metadata": {},
     "output_type": "execute_result"
    }
   ],
   "source": [
    "mean= np.mean(data)\n",
    "mean"
   ]
  },
  {
   "cell_type": "code",
   "execution_count": 17,
   "id": "e75ea095-1694-4817-9ce4-27b9f9c20426",
   "metadata": {},
   "outputs": [
    {
     "data": {
      "text/plain": [
       "0.19316412956959936"
      ]
     },
     "execution_count": 17,
     "metadata": {},
     "output_type": "execute_result"
    }
   ],
   "source": [
    "std= np.std(data,ddof=1)\n",
    "std"
   ]
  },
  {
   "cell_type": "code",
   "execution_count": 39,
   "id": "d1c5116f-917d-4bfc-9e4e-b3ab0ab127c9",
   "metadata": {},
   "outputs": [
    {
     "data": {
      "text/plain": [
       "2.977"
      ]
     },
     "execution_count": 39,
     "metadata": {},
     "output_type": "execute_result"
    }
   ],
   "source": [
    "t_critical= 2.977 # taken from t distrubution table and degrees of freedom\n",
    "t_critical"
   ]
  },
  {
   "cell_type": "code",
   "execution_count": 47,
   "id": "f3443c8c-9105-4799-b4bf-2e01c7ef133f",
   "metadata": {},
   "outputs": [
    {
     "data": {
      "text/plain": [
       "0.1484771718142835"
      ]
     },
     "execution_count": 47,
     "metadata": {},
     "output_type": "execute_result"
    }
   ],
   "source": [
    "error= t_critical*std/np.sqrt(15)\n",
    "error"
   ]
  },
  {
   "cell_type": "code",
   "execution_count": 49,
   "id": "a2254040-3a8e-4337-9483-a25f0606191a",
   "metadata": {},
   "outputs": [],
   "source": [
    "#Confidence Interval: The 99% confidence interval is then:mean pluse or minus error"
   ]
  },
  {
   "cell_type": "code",
   "execution_count": 51,
   "id": "b11fc48f-8648-46a5-a0a3-811ac7e3afe2",
   "metadata": {},
   "outputs": [
    {
     "data": {
      "text/plain": [
       "1.38714383848095"
      ]
     },
     "execution_count": 51,
     "metadata": {},
     "output_type": "execute_result"
    }
   ],
   "source": [
    "mean + error"
   ]
  },
  {
   "cell_type": "code",
   "execution_count": 53,
   "id": "511326b5-3bec-445c-8339-d2c3881a1a29",
   "metadata": {},
   "outputs": [
    {
     "data": {
      "text/plain": [
       "1.0901894948523831"
      ]
     },
     "execution_count": 53,
     "metadata": {},
     "output_type": "execute_result"
    }
   ],
   "source": [
    "mean - error"
   ]
  },
  {
   "cell_type": "code",
   "execution_count": null,
   "id": "e5f3610e-c995-4aa8-87fa-0f062ab19f28",
   "metadata": {},
   "outputs": [],
   "source": [
    "#Thus, the 99% confidence interval for the mean number of characters printed before failure using the sample standard deviation is:"
   ]
  },
  {
   "cell_type": "markdown",
   "id": "36e7879b-a389-41cc-96d6-e343c92a93ab",
   "metadata": {},
   "source": [
    "## (1.09,1.38)million characters"
   ]
  },
  {
   "cell_type": "markdown",
   "id": "4cc41f7d-128f-4769-ba89-5ff912fc5633",
   "metadata": {},
   "source": [
    "## Building a 99% Confidence Interval Using the Known Population Standard Deviation\n",
    "### If it were known that the population standard deviation is 0.2 million characters, construct a 99% confidence interval for the mean number of characters printed before failure."
   ]
  },
  {
   "cell_type": "code",
   "execution_count": 56,
   "id": "c6c8d4f9-e1b1-467c-b7ef-66c84b961dd2",
   "metadata": {},
   "outputs": [
    {
     "data": {
      "text/plain": [
       "1.2386666666666666"
      ]
     },
     "execution_count": 56,
     "metadata": {},
     "output_type": "execute_result"
    }
   ],
   "source": [
    "mean= np.mean(data)\n",
    "mean"
   ]
  },
  {
   "cell_type": "code",
   "execution_count": 66,
   "id": "b0f5e8b6-59ea-4b83-ac7e-5ca3a9eb4601",
   "metadata": {},
   "outputs": [
    {
     "data": {
      "text/plain": [
       "0.2"
      ]
     },
     "execution_count": 66,
     "metadata": {},
     "output_type": "execute_result"
    }
   ],
   "source": [
    "population_std=0.2\n",
    "population_std"
   ]
  },
  {
   "cell_type": "code",
   "execution_count": 68,
   "id": "d0e12098-22a2-4e54-8af9-8a3cb949a2df",
   "metadata": {},
   "outputs": [
    {
     "data": {
      "text/plain": [
       "2.576"
      ]
     },
     "execution_count": 68,
     "metadata": {},
     "output_type": "execute_result"
    }
   ],
   "source": [
    "z_critical= 2.576 # taken from z distrubution table for CI 99%\n",
    "z_critical"
   ]
  },
  {
   "cell_type": "code",
   "execution_count": 70,
   "id": "26f85227-5eaa-4335-9dc7-21150976a410",
   "metadata": {},
   "outputs": [
    {
     "data": {
      "text/plain": [
       "0.1284773915329507"
      ]
     },
     "execution_count": 70,
     "metadata": {},
     "output_type": "execute_result"
    }
   ],
   "source": [
    "Margin_of_error = z_critical*std/np.sqrt(15)\n",
    "Margin_of_error"
   ]
  },
  {
   "cell_type": "code",
   "execution_count": 72,
   "id": "37127d3a-95c9-47fc-b757-d81588bb8712",
   "metadata": {},
   "outputs": [],
   "source": [
    "#Confidence Interval: The 99% confidence interval is then:mean pluse or minus error"
   ]
  },
  {
   "cell_type": "code",
   "execution_count": 74,
   "id": "d5d71df4-7159-42c3-aaae-b54d3d44f25a",
   "metadata": {},
   "outputs": [
    {
     "data": {
      "text/plain": [
       "1.3671440581996173"
      ]
     },
     "execution_count": 74,
     "metadata": {},
     "output_type": "execute_result"
    }
   ],
   "source": [
    "mean + Margin_of_error"
   ]
  },
  {
   "cell_type": "code",
   "execution_count": 76,
   "id": "ae958313-293d-4ebd-b4ca-9d34e568d603",
   "metadata": {},
   "outputs": [
    {
     "data": {
      "text/plain": [
       "1.110189275133716"
      ]
     },
     "execution_count": 76,
     "metadata": {},
     "output_type": "execute_result"
    }
   ],
   "source": [
    "mean - Margin_of_error"
   ]
  },
  {
   "cell_type": "code",
   "execution_count": 78,
   "id": "f6f349e0-05ab-49cc-a690-3fae08448145",
   "metadata": {},
   "outputs": [],
   "source": [
    "#Thus, the 99% confidence interval for the mean number of characters printed before failure using the known population standard deviation is:"
   ]
  },
  {
   "cell_type": "markdown",
   "id": "e433aee8-cb0f-4920-84dc-c1707f166f22",
   "metadata": {},
   "source": [
    "## (1.11,1.36)million characters"
   ]
  }
 ],
 "metadata": {
  "kernelspec": {
   "display_name": "Python 3 (ipykernel)",
   "language": "python",
   "name": "python3"
  },
  "language_info": {
   "codemirror_mode": {
    "name": "ipython",
    "version": 3
   },
   "file_extension": ".py",
   "mimetype": "text/x-python",
   "name": "python",
   "nbconvert_exporter": "python",
   "pygments_lexer": "ipython3",
   "version": "3.12.4"
  }
 },
 "nbformat": 4,
 "nbformat_minor": 5
}
