{
 "cells": [
  {
   "cell_type": "markdown",
   "id": "485acc25-7612-4c8c-9677-8a24714f8339",
   "metadata": {},
   "source": [
    "# CHI-SQUARE TEST"
   ]
  },
  {
   "cell_type": "code",
   "execution_count": 4,
   "id": "aab2083e-511f-4c75-ba51-80b9c546a675",
   "metadata": {},
   "outputs": [],
   "source": [
    "## Chi-Square Test: Association between Device Type and Customer Satisfaction"
   ]
  },
  {
   "cell_type": "markdown",
   "id": "a5bfef37-290b-4c95-8f8c-d919a12ca24a",
   "metadata": {},
   "source": [
    "### Hypotheses\n",
    "##### Null Hypothesis (𝐻0): There is no significant association between the type of smart home device (Smart Thermostat vs. Smart Light) and customer satisfaction level. In other words, the type of device and customer satisfaction are independent.\n",
    "##### Alternative Hypothesis (𝐻𝑎): There is a significant association between the type of smart home device and customer satisfaction level. The two variables are not independent."
   ]
  },
  {
   "cell_type": "markdown",
   "id": "ca9891f2-fffc-4357-8458-6ac640691e6c",
   "metadata": {},
   "source": [
    "### Compute the Chi-Square Statistic"
   ]
  },
  {
   "cell_type": "code",
   "execution_count": 61,
   "id": "84ca6a2d-8ba1-42f5-923d-79edde44c9b3",
   "metadata": {},
   "outputs": [
    {
     "name": "stdout",
     "output_type": "stream",
     "text": [
      "Chi-Square Statistic: 5.638227513227513\n",
      "Degrees of Freedom: 4\n",
      "P-Value: 0.22784371130697179\n",
      "Expected Frequencies:\n",
      "[[ 48.  72.]\n",
      " [ 72. 108.]\n",
      " [ 60.  90.]\n",
      " [ 32.  48.]\n",
      " [ 28.  42.]]\n"
     ]
    }
   ],
   "source": [
    "import pandas as pd\n",
    "from scipy.stats import chi2_contingency\n",
    "\n",
    "# Load the dataset (replace with the path to your CSV file)\n",
    "df = pd.read_csv('satisfaction_device_data.csv')\n",
    "\n",
    "# Extract the relevant columns (Smart Thermostat and Smart Light counts)\n",
    "observed = df[['Smart Thermostat', 'Smart Light']].values[:5]  # Exclude 'Total' row\n",
    "\n",
    "# Perform the Chi-Square test\n",
    "chi2_stat, p_val, dof, expected = chi2_contingency(observed)\n",
    "\n",
    "# Print the results\n",
    "print(f\"Chi-Square Statistic: {chi2_stat}\")\n",
    "print(f\"Degrees of Freedom: {dof}\")\n",
    "print(f\"P-Value: {p_val}\")\n",
    "print(\"Expected Frequencies:\")\n",
    "print(expected)"
   ]
  },
  {
   "cell_type": "markdown",
   "id": "39bcb934-5bda-4828-8563-5b48499743a7",
   "metadata": {},
   "source": [
    "## Determine the Critical Value"
   ]
  },
  {
   "cell_type": "code",
   "execution_count": 64,
   "id": "518c7bae-e964-4c1e-b245-f7e260313eda",
   "metadata": {},
   "outputs": [
    {
     "name": "stdout",
     "output_type": "stream",
     "text": [
      "Critical Value: 9.487729036781154\n"
     ]
    }
   ],
   "source": [
    "from scipy.stats import chi2\n",
    "\n",
    "# Degrees of freedom = (number of rows - 1) * (number of columns - 1)\n",
    "dof = (observed.shape[0] - 1) * (observed.shape[1] - 1)\n",
    "\n",
    "# Critical value for alpha = 0.05\n",
    "alpha = 0.05\n",
    "critical_value = chi2.ppf(1 - alpha, dof)\n",
    "\n",
    "print(f\"Critical Value: {critical_value}\")"
   ]
  },
  {
   "cell_type": "markdown",
   "id": "43bb510a-803f-4353-9e96-07ab859d8740",
   "metadata": {},
   "source": [
    "## Make a Decision"
   ]
  },
  {
   "cell_type": "markdown",
   "id": "ecb0d0bd-6d38-44f4-9f93-9972c8a1f695",
   "metadata": {},
   "source": [
    "### Compare the computed Chi-Square statistic with the critical value. If the Chi-Square statistic is greater than the critical value, reject the null hypothesis; otherwise, fail to reject it."
   ]
  },
  {
   "cell_type": "code",
   "execution_count": null,
   "id": "3cd1aae7-03da-4357-9dfb-c2ff062d6f31",
   "metadata": {},
   "outputs": [],
   "source": []
  }
 ],
 "metadata": {
  "kernelspec": {
   "display_name": "Python 3 (ipykernel)",
   "language": "python",
   "name": "python3"
  },
  "language_info": {
   "codemirror_mode": {
    "name": "ipython",
    "version": 3
   },
   "file_extension": ".py",
   "mimetype": "text/x-python",
   "name": "python",
   "nbconvert_exporter": "python",
   "pygments_lexer": "ipython3",
   "version": "3.12.4"
  }
 },
 "nbformat": 4,
 "nbformat_minor": 5
}
