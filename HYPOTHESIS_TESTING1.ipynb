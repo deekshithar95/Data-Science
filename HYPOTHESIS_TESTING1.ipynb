{
 "cells": [
  {
   "cell_type": "markdown",
   "id": "a39e7ad6-f2a5-4713-9c71-154dbbb1a46b",
   "metadata": {},
   "source": [
    "## HYPOTHESIS TESTING"
   ]
  },
  {
   "cell_type": "markdown",
   "id": "52df581a-f2cc-4699-bc4f-733adb61095f",
   "metadata": {},
   "source": [
    "### State the Hypotheses Statement"
   ]
  },
  {
   "cell_type": "markdown",
   "id": "105a73e5-73bb-46c6-9706-9f8ced5178c3",
   "metadata": {},
   "source": [
    "#### Null Hypothesis (𝐻0): The true mean weekly operating cost is equal to the theoretical cost given by the model 𝜇0 = 1000 + 5𝑋 μ0, where 𝑋=600 units.\n",
    "#### Alternative Hypothesis (𝐻𝑎): The true mean weekly operating cost is higher than the theoretical cost, i.e., 𝜇 > 𝜇0"
   ]
  },
  {
   "cell_type": "markdown",
   "id": "7fb5ad74-12a8-46a4-be92-77a48670fa32",
   "metadata": {},
   "source": [
    "## Calculate the Test Statistic and Determine the Critical Value"
   ]
  },
  {
   "cell_type": "code",
   "execution_count": 5,
   "id": "e6151e41-ad54-4d71-b07b-c6bcfe7ced5c",
   "metadata": {},
   "outputs": [
    {
     "name": "stdout",
     "output_type": "stream",
     "text": [
      "Test Statistic (t): -38.0\n",
      "Critical Value (Z): 1.6448536269514722\n"
     ]
    }
   ],
   "source": [
    "import math\n",
    "from scipy.stats import norm\n",
    "\n",
    "# Given data\n",
    "x_bar = 3050  # sample mean\n",
    "mu = 4000  # theoretical mean weekly cost\n",
    "sigma = 5 * 25  # standard deviation\n",
    "n = 25  # sample size\n",
    "alpha = 0.05  # significance level\n",
    "\n",
    "# Calculate the test statistic (t)\n",
    "t_stat = (x_bar - mu) / (sigma / math.sqrt(n))\n",
    "\n",
    "# Determine the critical value (Z-critical) for alpha = 0.05 (one-tailed test)\n",
    "z_critical = norm.ppf(1 - alpha)\n",
    "\n",
    "# Print the test statistic and critical value\n",
    "print(f\"Test Statistic (t): {t_stat}\")\n",
    "print(f\"Critical Value (Z): {z_critical}\")"
   ]
  },
  {
   "cell_type": "markdown",
   "id": "7889f274-e470-4048-836a-af6523713a5e",
   "metadata": {},
   "source": [
    "## Make a Decision"
   ]
  },
  {
   "cell_type": "markdown",
   "id": "42989c78-394e-4465-a3d2-47d99aecd853",
   "metadata": {},
   "source": [
    "## Compare the test statistic t with the critical value 1.645. If t>1.645, reject the null hypothesis."
   ]
  },
  {
   "cell_type": "markdown",
   "id": "d21ce4b3-ff2f-49d1-a28f-bd125eb4d321",
   "metadata": {},
   "source": [
    "## Conclusion"
   ]
  },
  {
   "cell_type": "markdown",
   "id": "fe8e6ec4-b24e-4d59-b5bf-575f82b94bcb",
   "metadata": {},
   "source": [
    "### If the test statistic exceeds the critical value, it suggests that the weekly operating costs are significantly higher than the model prediction."
   ]
  },
  {
   "cell_type": "code",
   "execution_count": null,
   "id": "7eb615a2-e4c8-461f-a96b-795d0a6aa2c3",
   "metadata": {},
   "outputs": [],
   "source": []
  }
 ],
 "metadata": {
  "kernelspec": {
   "display_name": "Python 3 (ipykernel)",
   "language": "python",
   "name": "python3"
  },
  "language_info": {
   "codemirror_mode": {
    "name": "ipython",
    "version": 3
   },
   "file_extension": ".py",
   "mimetype": "text/x-python",
   "name": "python",
   "nbconvert_exporter": "python",
   "pygments_lexer": "ipython3",
   "version": "3.12.4"
  }
 },
 "nbformat": 4,
 "nbformat_minor": 5
}
