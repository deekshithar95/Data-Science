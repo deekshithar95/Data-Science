{
 "cells": [
  {
   "cell_type": "markdown",
   "id": "5c6a16a1-a244-4fdb-a211-a3bd21d15627",
   "metadata": {},
   "source": [
    "# ARTIFICIAL NEURAL NETWORKS"
   ]
  },
  {
   "cell_type": "code",
   "execution_count": 24,
   "id": "4f2dff83-33e8-4dba-a65f-3895598219d2",
   "metadata": {},
   "outputs": [],
   "source": [
    "import pandas as pd\n",
    "from sklearn.model_selection import train_test_split\n",
    "from sklearn.preprocessing import StandardScaler, LabelEncoder\n",
    "import numpy as np"
   ]
  },
  {
   "cell_type": "code",
   "execution_count": 26,
   "id": "309e8495-73db-408f-93d4-382fcd669f1a",
   "metadata": {},
   "outputs": [],
   "source": [
    "# Load the dataset\n",
    "data = pd.read_csv('Alphabets_data.csv')"
   ]
  },
  {
   "cell_type": "code",
   "execution_count": 45,
   "id": "18f7a2cd-fad1-429d-93ad-65d2fadf8c7b",
   "metadata": {},
   "outputs": [
    {
     "name": "stdout",
     "output_type": "stream",
     "text": [
      "  letter  xbox  ybox  width  height  onpix  xbar  ybar  x2bar  y2bar  xybar  \\\n",
      "0      T     2     8      3       5      1     8    13      0      6      6   \n",
      "1      I     5    12      3       7      2    10     5      5      4     13   \n",
      "2      D     4    11      6       8      6    10     6      2      6     10   \n",
      "3      N     7    11      6       6      3     5     9      4      6      4   \n",
      "4      G     2     1      3       1      1     8     6      6      6      6   \n",
      "\n",
      "   x2ybar  xy2bar  xedge  xedgey  yedge  yedgex  \n",
      "0      10       8      0       8      0       8  \n",
      "1       3       9      2       8      4      10  \n",
      "2       3       7      3       7      3       9  \n",
      "3       4      10      6      10      2       8  \n",
      "4       5       9      1       7      5      10  \n"
     ]
    }
   ],
   "source": [
    "# Explore the dataset\n",
    "print(data.head())"
   ]
  },
  {
   "cell_type": "code",
   "execution_count": 47,
   "id": "8c001396-b7ee-4322-8e71-c149e4cae575",
   "metadata": {},
   "outputs": [
    {
     "name": "stdout",
     "output_type": "stream",
     "text": [
      "<class 'pandas.core.frame.DataFrame'>\n",
      "RangeIndex: 20000 entries, 0 to 19999\n",
      "Data columns (total 17 columns):\n",
      " #   Column  Non-Null Count  Dtype \n",
      "---  ------  --------------  ----- \n",
      " 0   letter  20000 non-null  object\n",
      " 1   xbox    20000 non-null  int64 \n",
      " 2   ybox    20000 non-null  int64 \n",
      " 3   width   20000 non-null  int64 \n",
      " 4   height  20000 non-null  int64 \n",
      " 5   onpix   20000 non-null  int64 \n",
      " 6   xbar    20000 non-null  int64 \n",
      " 7   ybar    20000 non-null  int64 \n",
      " 8   x2bar   20000 non-null  int64 \n",
      " 9   y2bar   20000 non-null  int64 \n",
      " 10  xybar   20000 non-null  int64 \n",
      " 11  x2ybar  20000 non-null  int64 \n",
      " 12  xy2bar  20000 non-null  int64 \n",
      " 13  xedge   20000 non-null  int64 \n",
      " 14  xedgey  20000 non-null  int64 \n",
      " 15  yedge   20000 non-null  int64 \n",
      " 16  yedgex  20000 non-null  int64 \n",
      "dtypes: int64(16), object(1)\n",
      "memory usage: 2.6+ MB\n",
      "None\n"
     ]
    }
   ],
   "source": [
    "print(data.info())"
   ]
  },
  {
   "cell_type": "code",
   "execution_count": 49,
   "id": "56362e44-9bea-4650-ba21-8261e6f77127",
   "metadata": {},
   "outputs": [
    {
     "name": "stdout",
     "output_type": "stream",
     "text": [
      "               xbox          ybox         width       height         onpix  \\\n",
      "count  20000.000000  20000.000000  20000.000000  20000.00000  20000.000000   \n",
      "mean       4.023550      7.035500      5.121850      5.37245      3.505850   \n",
      "std        1.913212      3.304555      2.014573      2.26139      2.190458   \n",
      "min        0.000000      0.000000      0.000000      0.00000      0.000000   \n",
      "25%        3.000000      5.000000      4.000000      4.00000      2.000000   \n",
      "50%        4.000000      7.000000      5.000000      6.00000      3.000000   \n",
      "75%        5.000000      9.000000      6.000000      7.00000      5.000000   \n",
      "max       15.000000     15.000000     15.000000     15.00000     15.000000   \n",
      "\n",
      "               xbar          ybar         x2bar         y2bar         xybar  \\\n",
      "count  20000.000000  20000.000000  20000.000000  20000.000000  20000.000000   \n",
      "mean       6.897600      7.500450      4.628600      5.178650      8.282050   \n",
      "std        2.026035      2.325354      2.699968      2.380823      2.488475   \n",
      "min        0.000000      0.000000      0.000000      0.000000      0.000000   \n",
      "25%        6.000000      6.000000      3.000000      4.000000      7.000000   \n",
      "50%        7.000000      7.000000      4.000000      5.000000      8.000000   \n",
      "75%        8.000000      9.000000      6.000000      7.000000     10.000000   \n",
      "max       15.000000     15.000000     15.000000     15.000000     15.000000   \n",
      "\n",
      "            x2ybar        xy2bar         xedge        xedgey         yedge  \\\n",
      "count  20000.00000  20000.000000  20000.000000  20000.000000  20000.000000   \n",
      "mean       6.45400      7.929000      3.046100      8.338850      3.691750   \n",
      "std        2.63107      2.080619      2.332541      1.546722      2.567073   \n",
      "min        0.00000      0.000000      0.000000      0.000000      0.000000   \n",
      "25%        5.00000      7.000000      1.000000      8.000000      2.000000   \n",
      "50%        6.00000      8.000000      3.000000      8.000000      3.000000   \n",
      "75%        8.00000      9.000000      4.000000      9.000000      5.000000   \n",
      "max       15.00000     15.000000     15.000000     15.000000     15.000000   \n",
      "\n",
      "            yedgex  \n",
      "count  20000.00000  \n",
      "mean       7.80120  \n",
      "std        1.61747  \n",
      "min        0.00000  \n",
      "25%        7.00000  \n",
      "50%        8.00000  \n",
      "75%        9.00000  \n",
      "max       15.00000  \n"
     ]
    }
   ],
   "source": [
    "print(data.describe())"
   ]
  },
  {
   "cell_type": "code",
   "execution_count": 30,
   "id": "2cd608af-862e-43bc-aeb1-562ddd522f5d",
   "metadata": {},
   "outputs": [
    {
     "name": "stdout",
     "output_type": "stream",
     "text": [
      "letter    0\n",
      "xbox      0\n",
      "ybox      0\n",
      "width     0\n",
      "height    0\n",
      "onpix     0\n",
      "xbar      0\n",
      "ybar      0\n",
      "x2bar     0\n",
      "y2bar     0\n",
      "xybar     0\n",
      "x2ybar    0\n",
      "xy2bar    0\n",
      "xedge     0\n",
      "xedgey    0\n",
      "yedge     0\n",
      "yedgex    0\n",
      "dtype: int64\n"
     ]
    }
   ],
   "source": [
    "# Check for missing values\n",
    "print(data.isnull().sum())"
   ]
  },
  {
   "cell_type": "code",
   "execution_count": 32,
   "id": "06cb29e9-d31d-457f-b526-ddea25f09dcd",
   "metadata": {},
   "outputs": [],
   "source": [
    "# Normalize the features\n",
    "scaler = StandardScaler()\n",
    "X = data.drop('letter', axis=1)  # Assuming 'label' is the target column\n",
    "y = data['letter']"
   ]
  },
  {
   "cell_type": "code",
   "execution_count": 34,
   "id": "22631565-b98b-4c1b-aadf-0532f455117d",
   "metadata": {},
   "outputs": [],
   "source": [
    "# Convert string labels to integers\n",
    "label_encoder = LabelEncoder()\n",
    "y_encoded = label_encoder.fit_transform(y)\n",
    "\n",
    "X_scaled = scaler.fit_transform(X)"
   ]
  },
  {
   "cell_type": "code",
   "execution_count": 36,
   "id": "5d29b696-8fcb-48de-802f-9aa1cd424cd8",
   "metadata": {},
   "outputs": [],
   "source": [
    "# Split the dataset into training and test sets\n",
    "X_train, X_test, y_train, y_test = train_test_split(X_scaled, y_encoded, test_size=0.2, random_state=42)"
   ]
  },
  {
   "cell_type": "markdown",
   "id": "a60c1d4f-cb07-46c5-8d47-5cc28243173b",
   "metadata": {},
   "source": [
    "# Model Implementation and Training"
   ]
  },
  {
   "cell_type": "code",
   "execution_count": 38,
   "id": "24332b09-82e8-42d2-ad4f-e1b5258ab873",
   "metadata": {},
   "outputs": [],
   "source": [
    "import tensorflow as tf\n",
    "from tensorflow.keras.models import Sequential\n",
    "from tensorflow.keras.layers import Dense"
   ]
  },
  {
   "cell_type": "code",
   "execution_count": 40,
   "id": "d73d1bdd-e813-4022-b5c0-7f0bd4618c9f",
   "metadata": {},
   "outputs": [],
   "source": [
    "# Function to create the ANN model\n",
    "def create_model(hidden_layers, neurons, activation='relu'):\n",
    "    model = Sequential()\n",
    "    model.add(Dense(neurons, activation=activation, input_shape=(X_train.shape[1],)))\n",
    "    \n",
    "    for _ in range(hidden_layers - 1):\n",
    "        model.add(Dense(neurons, activation=activation))\n",
    "    \n",
    "    model.add(Dense(len(np.unique(y_encoded)), activation='softmax'))  # Output layer for multi-class classification\n",
    "    model.compile(optimizer='adam', loss='sparse_categorical_crossentropy', metrics=['accuracy'])\n",
    "    return model\n"
   ]
  },
  {
   "cell_type": "code",
   "execution_count": 8,
   "id": "cccb00a5-b983-4503-8cc8-f0d85d46c066",
   "metadata": {},
   "outputs": [
    {
     "name": "stdout",
     "output_type": "stream",
     "text": [
      "Training model with 1 hidden layers, 32 neurons, activation: relu\n"
     ]
    },
    {
     "name": "stderr",
     "output_type": "stream",
     "text": [
      "C:\\Users\\hp victus\\anaconda3\\Lib\\site-packages\\keras\\src\\layers\\core\\dense.py:87: UserWarning: Do not pass an `input_shape`/`input_dim` argument to a layer. When using Sequential models, prefer using an `Input(shape)` object as the first layer in the model instead.\n",
      "  super().__init__(activity_regularizer=activity_regularizer, **kwargs)\n"
     ]
    },
    {
     "name": "stdout",
     "output_type": "stream",
     "text": [
      "Training model with 1 hidden layers, 32 neurons, activation: tanh\n",
      "Training model with 1 hidden layers, 64 neurons, activation: relu\n",
      "Training model with 1 hidden layers, 64 neurons, activation: tanh\n",
      "Training model with 1 hidden layers, 128 neurons, activation: relu\n",
      "Training model with 1 hidden layers, 128 neurons, activation: tanh\n",
      "Training model with 2 hidden layers, 32 neurons, activation: relu\n",
      "Training model with 2 hidden layers, 32 neurons, activation: tanh\n",
      "Training model with 2 hidden layers, 64 neurons, activation: relu\n",
      "Training model with 2 hidden layers, 64 neurons, activation: tanh\n",
      "Training model with 2 hidden layers, 128 neurons, activation: relu\n",
      "Training model with 2 hidden layers, 128 neurons, activation: tanh\n"
     ]
    }
   ],
   "source": [
    "# Hyperparameter tuning\n",
    "results = []\n",
    "\n",
    "# Define hyperparameter options\n",
    "hidden_layers_options = [1, 2]\n",
    "neurons_options = [32, 64, 128]\n",
    "activation_options = ['relu', 'tanh']\n",
    "\n",
    "for hidden_layers in hidden_layers_options:\n",
    "    for neurons in neurons_options:\n",
    "        for activation in activation_options:\n",
    "            print(f'Training model with {hidden_layers} hidden layers, {neurons} neurons, activation: {activation}')\n",
    "            model = create_model(hidden_layers, neurons, activation)\n",
    "            model.fit(X_train, y_train, epochs=50, batch_size=32, verbose=0)\n",
    "            loss, accuracy = model.evaluate(X_test, y_test, verbose=0)\n",
    "            results.append((hidden_layers, neurons, activation, accuracy))"
   ]
  },
  {
   "cell_type": "code",
   "execution_count": 11,
   "id": "f3720ed0-b8a8-46ec-a47b-687dcd3d1bd9",
   "metadata": {},
   "outputs": [
    {
     "name": "stdout",
     "output_type": "stream",
     "text": [
      "Best model: (2, 128, 'tanh', 0.9707499742507935)\n"
     ]
    }
   ],
   "source": [
    "# Find the best model\n",
    "best_model = max(results, key=lambda x: x[3])\n",
    "print(f'Best model: {best_model}')"
   ]
  },
  {
   "cell_type": "markdown",
   "id": "3b393aec-dbd6-4661-a3f2-54261e4c87e5",
   "metadata": {},
   "source": [
    "# Evaluation"
   ]
  },
  {
   "cell_type": "code",
   "execution_count": 12,
   "id": "c6255313-2e99-4aef-8a47-0a925cb05132",
   "metadata": {},
   "outputs": [],
   "source": [
    "from sklearn.metrics import classification_report"
   ]
  },
  {
   "cell_type": "code",
   "execution_count": 14,
   "id": "8b0eb8ab-c8c4-479d-bf29-494a5d997ff6",
   "metadata": {},
   "outputs": [
    {
     "name": "stderr",
     "output_type": "stream",
     "text": [
      "C:\\Users\\hp victus\\anaconda3\\Lib\\site-packages\\keras\\src\\layers\\core\\dense.py:87: UserWarning: Do not pass an `input_shape`/`input_dim` argument to a layer. When using Sequential models, prefer using an `Input(shape)` object as the first layer in the model instead.\n",
      "  super().__init__(activity_regularizer=activity_regularizer, **kwargs)\n"
     ]
    },
    {
     "data": {
      "text/plain": [
       "<keras.src.callbacks.history.History at 0x265aca3fd70>"
      ]
     },
     "execution_count": 14,
     "metadata": {},
     "output_type": "execute_result"
    }
   ],
   "source": [
    "# Create the best model\n",
    "best_hidden_layers, best_neurons, best_activation, _ = best_model\n",
    "best_model_instance = create_model(best_hidden_layers, best_neurons, best_activation)\n",
    "best_model_instance.fit(X_train, y_train, epochs=50, batch_size=32, verbose=0)"
   ]
  },
  {
   "cell_type": "code",
   "execution_count": 15,
   "id": "ea1a7d72-4de1-4e53-87ca-5d9ee3403909",
   "metadata": {},
   "outputs": [
    {
     "name": "stdout",
     "output_type": "stream",
     "text": [
      "\u001b[1m125/125\u001b[0m \u001b[32m━━━━━━━━━━━━━━━━━━━━\u001b[0m\u001b[37m\u001b[0m \u001b[1m0s\u001b[0m 1ms/step\n",
      "              precision    recall  f1-score   support\n",
      "\n",
      "           0       0.99      0.99      0.99       149\n",
      "           1       0.91      0.95      0.93       153\n",
      "           2       0.97      0.93      0.95       137\n",
      "           3       0.95      0.95      0.95       156\n",
      "           4       0.95      0.98      0.97       141\n",
      "           5       0.97      0.94      0.96       140\n",
      "           6       0.93      0.96      0.94       160\n",
      "           7       0.94      0.90      0.92       144\n",
      "           8       0.96      0.95      0.96       146\n",
      "           9       0.96      0.95      0.96       149\n",
      "          10       0.95      0.95      0.95       130\n",
      "          11       0.96      0.97      0.96       155\n",
      "          12       0.99      0.99      0.99       168\n",
      "          13       0.97      0.97      0.97       151\n",
      "          14       0.93      0.97      0.95       145\n",
      "          15       0.98      0.97      0.97       173\n",
      "          16       0.99      0.95      0.97       166\n",
      "          17       0.93      0.94      0.93       160\n",
      "          18       0.98      0.98      0.98       171\n",
      "          19       0.96      0.97      0.97       163\n",
      "          20       0.98      0.97      0.98       183\n",
      "          21       0.95      0.97      0.96       158\n",
      "          22       0.99      0.98      0.99       148\n",
      "          23       0.95      0.96      0.95       154\n",
      "          24       0.99      0.99      0.99       168\n",
      "          25       0.97      0.96      0.97       132\n",
      "\n",
      "    accuracy                           0.96      4000\n",
      "   macro avg       0.96      0.96      0.96      4000\n",
      "weighted avg       0.96      0.96      0.96      4000\n",
      "\n"
     ]
    }
   ],
   "source": [
    "# Make predictions\n",
    "y_pred = np.argmax(best_model_instance.predict(X_test), axis=-1)\n",
    "\n",
    "# Evaluate the model\n",
    "print(classification_report(y_test, y_pred))"
   ]
  },
  {
   "cell_type": "code",
   "execution_count": null,
   "id": "9c73b02a-42dc-44e7-b9a3-b35d0626a3dd",
   "metadata": {},
   "outputs": [],
   "source": []
  }
 ],
 "metadata": {
  "kernelspec": {
   "display_name": "Python 3 (ipykernel)",
   "language": "python",
   "name": "python3"
  },
  "language_info": {
   "codemirror_mode": {
    "name": "ipython",
    "version": 3
   },
   "file_extension": ".py",
   "mimetype": "text/x-python",
   "name": "python",
   "nbconvert_exporter": "python",
   "pygments_lexer": "ipython3",
   "version": "3.12.4"
  }
 },
 "nbformat": 4,
 "nbformat_minor": 5
}
