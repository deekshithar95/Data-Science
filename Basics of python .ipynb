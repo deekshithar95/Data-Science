{
 "cells": [
  {
   "cell_type": "markdown",
   "id": "6614e915-4c3f-49dd-b8d5-b6c149dd616f",
   "metadata": {},
   "source": [
    "# Exercise 1: Prime Numbers"
   ]
  },
  {
   "cell_type": "code",
   "execution_count": 2,
   "id": "5083af46-50f0-4329-ad2e-61abe57a3656",
   "metadata": {},
   "outputs": [],
   "source": [
    "# Write a Python program that checks whether a given number is prime or not."
   ]
  },
  {
   "cell_type": "code",
   "execution_count": 10,
   "id": "b5eb4570-94a4-4cfc-b4b2-0acdce42a50b",
   "metadata": {},
   "outputs": [
    {
     "name": "stdin",
     "output_type": "stream",
     "text": [
      "Enter a number to check if it's prime:  7\n"
     ]
    },
    {
     "name": "stdout",
     "output_type": "stream",
     "text": [
      "7 is a prime number.\n"
     ]
    }
   ],
   "source": [
    "def is_prime(n):\n",
    "    \"\"\"Check if a number is prime.\"\"\"\n",
    "    if n <= 1:\n",
    "        return False\n",
    "    for i in range(2, int(n**0.5) + 1):\n",
    "        if n % i == 0:\n",
    "            return False\n",
    "    return True\n",
    "\n",
    "# Test the function\n",
    "num = int(input(\"Enter a number to check if it's prime: \"))\n",
    "if is_prime(num):\n",
    "    print(f\"{num} is a prime number.\")\n",
    "else:\n",
    "    print(f\"{num} is not a prime number.\")"
   ]
  },
  {
   "cell_type": "markdown",
   "id": "b31d3331-c384-4280-a06b-2393874437b0",
   "metadata": {},
   "source": [
    "# Exercise 2: Product of Random Numbers"
   ]
  },
  {
   "cell_type": "code",
   "execution_count": 13,
   "id": "aa5a025d-130b-43ce-aea9-c3240ceb5740",
   "metadata": {},
   "outputs": [],
   "source": [
    "# Develop a Python program that generates two random numbers and asks the user to enter the product of these numbers."
   ]
  },
  {
   "cell_type": "code",
   "execution_count": 19,
   "id": "1ef66e19-79a3-4feb-b384-352378e2fe0f",
   "metadata": {},
   "outputs": [
    {
     "name": "stdin",
     "output_type": "stream",
     "text": [
      "What is the product of 8 and 6?  48\n"
     ]
    },
    {
     "name": "stdout",
     "output_type": "stream",
     "text": [
      "Correct!\n"
     ]
    }
   ],
   "source": [
    "import random\n",
    "\n",
    "# Generate two random numbers\n",
    "num1 = random.randint(1, 10)\n",
    "num2 = random.randint(1, 10)\n",
    "\n",
    "# Ask the user to compute the product\n",
    "user_answer = int(input(f\"What is the product of {num1} and {num2}? \"))\n",
    "\n",
    "# Check if the user's answer is correct\n",
    "if user_answer == num1 * num2:\n",
    "    print(\"Correct!\")\n",
    "else:\n",
    "    print(f\"Wrong! The correct answer is {num1 * num2}.\")"
   ]
  },
  {
   "cell_type": "markdown",
   "id": "8bc4f722-67f6-4c53-9849-5c633e517cc1",
   "metadata": {},
   "source": [
    "# Exercise 3: Squares of Even/Odd Numbers"
   ]
  },
  {
   "cell_type": "code",
   "execution_count": 23,
   "id": "12a9580f-a139-4556-a62a-16b31bab2956",
   "metadata": {},
   "outputs": [],
   "source": [
    "# Create a Python script that prints the squares of all even numbers within the range of 100 to 200."
   ]
  },
  {
   "cell_type": "code",
   "execution_count": 25,
   "id": "773cce1d-454b-46ba-bd4d-3302edf4bd40",
   "metadata": {},
   "outputs": [
    {
     "name": "stdout",
     "output_type": "stream",
     "text": [
      "The square of 100 is 10000\n",
      "The square of 102 is 10404\n",
      "The square of 104 is 10816\n",
      "The square of 106 is 11236\n",
      "The square of 108 is 11664\n",
      "The square of 110 is 12100\n",
      "The square of 112 is 12544\n",
      "The square of 114 is 12996\n",
      "The square of 116 is 13456\n",
      "The square of 118 is 13924\n",
      "The square of 120 is 14400\n",
      "The square of 122 is 14884\n",
      "The square of 124 is 15376\n",
      "The square of 126 is 15876\n",
      "The square of 128 is 16384\n",
      "The square of 130 is 16900\n",
      "The square of 132 is 17424\n",
      "The square of 134 is 17956\n",
      "The square of 136 is 18496\n",
      "The square of 138 is 19044\n",
      "The square of 140 is 19600\n",
      "The square of 142 is 20164\n",
      "The square of 144 is 20736\n",
      "The square of 146 is 21316\n",
      "The square of 148 is 21904\n",
      "The square of 150 is 22500\n",
      "The square of 152 is 23104\n",
      "The square of 154 is 23716\n",
      "The square of 156 is 24336\n",
      "The square of 158 is 24964\n",
      "The square of 160 is 25600\n",
      "The square of 162 is 26244\n",
      "The square of 164 is 26896\n",
      "The square of 166 is 27556\n",
      "The square of 168 is 28224\n",
      "The square of 170 is 28900\n",
      "The square of 172 is 29584\n",
      "The square of 174 is 30276\n",
      "The square of 176 is 30976\n",
      "The square of 178 is 31684\n",
      "The square of 180 is 32400\n",
      "The square of 182 is 33124\n",
      "The square of 184 is 33856\n",
      "The square of 186 is 34596\n",
      "The square of 188 is 35344\n",
      "The square of 190 is 36100\n",
      "The square of 192 is 36864\n",
      "The square of 194 is 37636\n",
      "The square of 196 is 38416\n",
      "The square of 198 is 39204\n",
      "The square of 200 is 40000\n"
     ]
    }
   ],
   "source": [
    "for num in range(100, 201):\n",
    "    if num % 2 == 0:\n",
    "        print(f\"The square of {num} is {num ** 2}\")"
   ]
  },
  {
   "cell_type": "markdown",
   "id": "eb1077c6-0778-490a-a007-01472e42833d",
   "metadata": {},
   "source": [
    "# Exercise 4: Word Counter"
   ]
  },
  {
   "cell_type": "code",
   "execution_count": null,
   "id": "38fe844c-2df4-44a0-a0d3-23cbd2e3800b",
   "metadata": {},
   "outputs": [],
   "source": [
    "# Write a program to count the number of words in a given text."
   ]
  },
  {
   "cell_type": "code",
   "execution_count": 27,
   "id": "2195410b-b40e-4937-960a-4ce8829b10b3",
   "metadata": {},
   "outputs": [
    {
     "name": "stdout",
     "output_type": "stream",
     "text": [
      "'This': 2\n",
      "'is': 1\n",
      "'a': 1\n",
      "'sample': 1\n",
      "'text.': 1\n",
      "'text': 1\n",
      "'will': 1\n",
      "'be': 1\n",
      "'used': 1\n",
      "'to': 1\n",
      "'demonstrate': 1\n",
      "'the': 1\n",
      "'word': 1\n",
      "'counter.': 1\n"
     ]
    }
   ],
   "source": [
    "from collections import Counter\n",
    "\n",
    "def word_counter(text):\n",
    "    \"\"\"Count the occurrence of each word in the input text.\"\"\"\n",
    "    words = text.split()\n",
    "    word_count = Counter(words)\n",
    "    \n",
    "    # Print the word count\n",
    "    for word, count in word_count.items():\n",
    "        print(f\"'{word}': {count}\")\n",
    "\n",
    "# Example input\n",
    "input_text = \"This is a sample text. This text will be used to demonstrate the word counter.\"\n",
    "word_counter(input_text)"
   ]
  },
  {
   "cell_type": "markdown",
   "id": "5ad6d233-86c6-4508-b2ce-987211ae5f10",
   "metadata": {},
   "source": [
    "# Exercise 5: Check for Palindrome"
   ]
  },
  {
   "cell_type": "code",
   "execution_count": 31,
   "id": "75259a38-e6a5-4f7e-9ba9-064984fe20d0",
   "metadata": {},
   "outputs": [],
   "source": [
    "# Write a Python function that checks whether a string is a palindrome."
   ]
  },
  {
   "cell_type": "code",
   "execution_count": 37,
   "id": "b1c8cce0-5de4-42a1-8dc6-a79a306aea9d",
   "metadata": {},
   "outputs": [
    {
     "name": "stdin",
     "output_type": "stream",
     "text": [
      "Enter a string to check if it's a palindrome:  racecar\n"
     ]
    },
    {
     "name": "stdout",
     "output_type": "stream",
     "text": [
      "True\n"
     ]
    }
   ],
   "source": [
    "def is_palindrome(s):\n",
    "    \"\"\"Check if a string is a palindrome, ignoring spaces, punctuation, and capitalization.\"\"\"\n",
    "    # Remove spaces and convert to lowercase\n",
    "    cleaned_string = ''.join(c.lower() for c in s if c.isalnum())\n",
    "    return cleaned_string == cleaned_string[::-1]\n",
    "\n",
    "# Test the function\n",
    "input_string = input(\"Enter a string to check if it's a palindrome: \")\n",
    "if is_palindrome(input_string):\n",
    "    print(\"True\")\n",
    "else:\n",
    "    print(f\"'{input_string}' is not a palindrome.\")\n"
   ]
  },
  {
   "cell_type": "code",
   "execution_count": null,
   "id": "cce4df73-556f-41e6-87e7-3b543859f2e7",
   "metadata": {},
   "outputs": [],
   "source": []
  }
 ],
 "metadata": {
  "kernelspec": {
   "display_name": "Python 3 (ipykernel)",
   "language": "python",
   "name": "python3"
  },
  "language_info": {
   "codemirror_mode": {
    "name": "ipython",
    "version": 3
   },
   "file_extension": ".py",
   "mimetype": "text/x-python",
   "name": "python",
   "nbconvert_exporter": "python",
   "pygments_lexer": "ipython3",
   "version": "3.12.4"
  }
 },
 "nbformat": 4,
 "nbformat_minor": 5
}
